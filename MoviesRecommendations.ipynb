{
 "cells": [
  {
   "cell_type": "markdown",
   "metadata": {},
   "source": [
    "# __Movie Recommendation System__\n",
    "Samuel Sherman"
   ]
  },
  {
   "cell_type": "markdown",
   "metadata": {},
   "source": [
    "Using ratings and movie id datasets from the movieLens webiste (http://grouplens.org/datasets/movielens/), I will apply model to predict movie ratings using the pyspark API and the Alternating Least Squares algorithm."
   ]
  },
  {
   "cell_type": "code",
   "execution_count": 5,
   "metadata": {
    "collapsed": false
   },
   "outputs": [],
   "source": [
    "import sys\n",
    "import os\n",
    "\n",
    "baseDir = os.path.join('data')\n",
    "inputPath = os.path.join('movielens', 'als', 'data')\n",
    "\n",
    "ratingsFilename = os.path.join(baseDir, inputPath, 'ratings.dat.gz')\n",
    "moviesFilename = os.path.join(baseDir, inputPath, 'movies.dat')"
   ]
  },
  {
   "cell_type": "markdown",
   "metadata": {},
   "source": [
    "I first define two function to parse the data, one for the movies and one for the user ratings."
   ]
  },
  {
   "cell_type": "code",
   "execution_count": 7,
   "metadata": {
    "collapsed": false
   },
   "outputs": [
    {
     "name": "stdout",
     "output_type": "stream",
     "text": [
      "There are 487650 ratings and 3883 movies in the datasets\n",
      "Ratings: [(1, 1193, 5.0), (1, 914, 3.0), (1, 2355, 5.0)]\n",
      "Movies: [(1, u'Toy Story (1995)'), (2, u'Jumanji (1995)'), (3, u'Grumpier Old Men (1995)')]\n"
     ]
    }
   ],
   "source": [
    "numPartitions = 2\n",
    "rawRatings = sc.textFile(ratingsFilename).repartition(numPartitions)\n",
    "rawMovies = sc.textFile(moviesFilename)\n",
    "\n",
    "def get_ratings_tuple(entry): # UserID::MovieID::Rating::Timestamp to (UserID, MovieID, Rating)\n",
    "    items = entry.split('::')\n",
    "    return int(items[0]), int(items[1]), float(items[2])\n",
    "\n",
    "\n",
    "def get_movie_tuple(entry): # MovieID::Title::Genres to (MovieID, Title)\n",
    "    items = entry.split('::')\n",
    "    return int(items[0]), items[1]\n",
    "\n",
    "\n",
    "ratingsRDD = rawRatings.map(get_ratings_tuple).cache()\n",
    "moviesRDD = rawMovies.map(get_movie_tuple).cache()\n",
    "\n",
    "ratingsCount = ratingsRDD.count()\n",
    "moviesCount = moviesRDD.count()\n",
    "\n",
    "print 'There are %s ratings and %s movies in the datasets' % (ratingsCount, moviesCount)\n",
    "print 'Ratings: %s' % ratingsRDD.take(3)\n",
    "print 'Movies: %s' % moviesRDD.take(3)"
   ]
  },
  {
   "cell_type": "code",
   "execution_count": 8,
   "metadata": {
    "collapsed": false
   },
   "outputs": [],
   "source": [
    "def sortFunction(tuple):\n",
    "    key = unicode('%.3f' % tuple[0])\n",
    "    value = tuple[1]\n",
    "    return (key + ' ' + value)"
   ]
  },
  {
   "cell_type": "markdown",
   "metadata": {},
   "source": [
    "I will now create a function that takes in a tuple of the movie id and ratings and returns the movie id (key) and the number of ratings and the average rating (value)."
   ]
  },
  {
   "cell_type": "code",
   "execution_count": 9,
   "metadata": {
    "collapsed": false
   },
   "outputs": [],
   "source": [
    "def getCountsAndAverages(IDandRatingsTuple): # Get num ratings and average rating\n",
    "    MovieID = IDandRatingsTuple[0]\n",
    "    numRatings = len(IDandRatingsTuple[1])\n",
    "    averageRating = sum(IDandRatingsTuple[1])/float(numRatings)\n",
    "    return (MovieID, (numRatings, averageRating))"
   ]
  },
  {
   "cell_type": "markdown",
   "metadata": {},
   "source": [
    "Here, I take the ratings RDD, which consists of a User Id, Movie Id, and Rating, and I extract the Movie Id and Rating. I then group by key, which will produce a tuple consisting of an iterable of ratings per movie id. Using the function defined above, I produce a new tuple with the Movie Id and the average rating. Finally, I join this RDD with the movies RDD and extract the Average Rating, the Movie Name, and the number of Ratings."
   ]
  },
  {
   "cell_type": "code",
   "execution_count": 10,
   "metadata": {
    "collapsed": false
   },
   "outputs": [
    {
     "name": "stdout",
     "output_type": "stream",
     "text": [
      "movieIDsWithRatingsRDD: [(2, <pyspark.resultiterable.ResultIterable object at 0xaf7c008c>), (4, <pyspark.resultiterable.ResultIterable object at 0xaf7c022c>), (6, <pyspark.resultiterable.ResultIterable object at 0xaf7b76ac>)]\n",
      "\n",
      "movieIDsWithAvgRatingsRDD: [(2, (332, 3.174698795180723)), (4, (71, 2.676056338028169)), (6, (442, 3.7918552036199094))]\n",
      "\n",
      "movieNameWithAvgRatingsRDD: [(3.6818181818181817, u'Happiest Millionaire, The (1967)', 22), (3.0468227424749164, u'Grumpier Old Men (1995)', 299), (2.882978723404255, u'Hocus Pocus (1993)', 94)]\n",
      "\n"
     ]
    }
   ],
   "source": [
    "# (MovieID, iterable of Ratings for that MovieID)\n",
    "movieIDsWithRatingsRDD = (ratingsRDD\n",
    "                          .map(lambda (a,b,c): (b,c)).groupByKey())\n",
    "print 'movieIDsWithRatingsRDD: %s\\n' % movieIDsWithRatingsRDD.take(3)\n",
    "\n",
    "# (MovieID, (number of ratings, average rating))\n",
    "movieIDsWithAvgRatingsRDD = movieIDsWithRatingsRDD.map(getCountsAndAverages)\n",
    "print 'movieIDsWithAvgRatingsRDD: %s\\n' % movieIDsWithAvgRatingsRDD.take(3)\n",
    "\n",
    "# (average rating, movie name, number of ratings)\n",
    "movieNameWithAvgRatingsRDD = (moviesRDD\n",
    "                              .join(movieIDsWithAvgRatingsRDD)\n",
    "                              .map(lambda (a, (b, (c, d))): (d, b, c)))\n",
    "print 'movieNameWithAvgRatingsRDD: %s\\n' % movieNameWithAvgRatingsRDD.take(3)"
   ]
  },
  {
   "cell_type": "markdown",
   "metadata": {},
   "source": [
    "I filter out only the ratings with above 500 reviews and sort descending by each rating. The top 20 ratings are printed below."
   ]
  },
  {
   "cell_type": "code",
   "execution_count": 11,
   "metadata": {
    "collapsed": false
   },
   "outputs": [
    {
     "name": "stdout",
     "output_type": "stream",
     "text": [
      "Movies with highest ratings: [(4.5349264705882355, u'Shawshank Redemption, The (1994)', 1088), (4.515798462852263, u\"Schindler's List (1993)\", 1171), (4.512893982808023, u'Godfather, The (1972)', 1047), (4.510460251046025, u'Raiders of the Lost Ark (1981)', 1195), (4.505415162454874, u'Usual Suspects, The (1995)', 831), (4.457256461232604, u'Rear Window (1954)', 503), (4.45468509984639, u'Dr. Strangelove or: How I Learned to Stop Worrying and Love the Bomb (1963)', 651), (4.43953006219765, u'Star Wars: Episode IV - A New Hope (1977)', 1447), (4.4, u'Sixth Sense, The (1999)', 1110), (4.394285714285714, u'North by Northwest (1959)', 700), (4.379506641366224, u'Citizen Kane (1941)', 527), (4.375, u'Casablanca (1942)', 776), (4.363975155279503, u'Godfather: Part II, The (1974)', 805), (4.358816276202219, u\"One Flew Over the Cuckoo's Nest (1975)\", 811), (4.358173076923077, u'Silence of the Lambs, The (1991)', 1248), (4.335826477187734, u'Saving Private Ryan (1998)', 1337), (4.326241134751773, u'Chinatown (1974)', 564), (4.325383304940375, u'Life Is Beautiful (La Vita \\ufffd bella) (1997)', 587), (4.324110671936759, u'Monty Python and the Holy Grail (1974)', 759), (4.3096, u'Matrix, The (1999)', 1250)]\n"
     ]
    }
   ],
   "source": [
    "# Highest rating first\n",
    "movieLimitedAndSortedByRatingRDD = (movieNameWithAvgRatingsRDD\n",
    "                                    .filter(lambda (a,b,c): c > 500)\n",
    "                                    .sortBy(sortFunction, False))\n",
    "print 'Movies with highest ratings: %s' % movieLimitedAndSortedByRatingRDD.take(20)"
   ]
  },
  {
   "cell_type": "markdown",
   "metadata": {},
   "source": [
    "I perform a random split on the ratings RDD to produce three datasets for training, validation, and testing (60%, 20%, 20%)."
   ]
  },
  {
   "cell_type": "code",
   "execution_count": 12,
   "metadata": {
    "collapsed": false
   },
   "outputs": [
    {
     "name": "stdout",
     "output_type": "stream",
     "text": [
      "Training: 292716, validation: 96902, test: 98032\n",
      "\n",
      "[(1, 914, 3.0), (1, 2355, 5.0), (1, 595, 5.0)]\n",
      "[(1, 1287, 5.0), (1, 594, 4.0), (1, 1270, 5.0)]\n",
      "[(1, 1193, 5.0), (1, 2398, 4.0), (1, 1035, 5.0)]\n"
     ]
    }
   ],
   "source": [
    "trainingRDD, validationRDD, testRDD = ratingsRDD.randomSplit([6, 2, 2], seed=0L)\n",
    "\n",
    "print 'Training: %s, validation: %s, test: %s\\n' % (trainingRDD.count(),\n",
    "                                                    validationRDD.count(),\n",
    "                                                    testRDD.count())\n",
    "print trainingRDD.take(3)\n",
    "print validationRDD.take(3)\n",
    "print testRDD.take(3)"
   ]
  },
  {
   "cell_type": "markdown",
   "metadata": {},
   "source": [
    "The following function will produce the root mean squared error."
   ]
  },
  {
   "cell_type": "code",
   "execution_count": 13,
   "metadata": {
    "collapsed": false
   },
   "outputs": [],
   "source": [
    "import math\n",
    "\n",
    "def computeError(predictedRDD, actualRDD): # RMSE\n",
    "    predictedReformattedRDD = predictedRDD.map(lambda (UserID, MovieID, Rating): ((UserID, MovieID), Rating)) \n",
    "    actualReformattedRDD = actualRDD.map(lambda (UserID, MovieID, Rating): ((UserID, MovieID), Rating)) \n",
    "    squaredErrorsRDD = (predictedReformattedRDD\n",
    "                        .join(actualReformattedRDD)\n",
    "                        .map(lambda (k,v): (v[0]-v[1])**2))\n",
    "    totalError = squaredErrorsRDD.sum()\n",
    "    numRatings = squaredErrorsRDD.count()\n",
    "\n",
    "    # Using the total squared error and the number of entries, compute the RSME\n",
    "    return math.sqrt(totalError/float(numRatings))"
   ]
  },
  {
   "cell_type": "markdown",
   "metadata": {},
   "source": [
    "When applying the model I iterate of different values for the rank to determine which value will produce the lowest RMSE."
   ]
  },
  {
   "cell_type": "code",
   "execution_count": 14,
   "metadata": {
    "collapsed": false
   },
   "outputs": [
    {
     "name": "stdout",
     "output_type": "stream",
     "text": [
      "For rank 4 the RMSE is 0.892734779484\n",
      "For rank 8 the RMSE is 0.890121292255\n",
      "For rank 12 the RMSE is 0.890216118367\n",
      "The best model was trained with rank 8\n"
     ]
    }
   ],
   "source": [
    "from pyspark.mllib.recommendation import ALS\n",
    "\n",
    "validationForPredictRDD = validationRDD.map(lambda (a,b,c): (a,b))\n",
    "\n",
    "seed = 5L\n",
    "iterations = 5\n",
    "regularizationParameter = 0.1\n",
    "ranks = [4, 8, 12]\n",
    "errors = [0, 0, 0]\n",
    "err = 0\n",
    "tolerance = 0.02\n",
    "\n",
    "minError = float('inf')\n",
    "bestRank = -1\n",
    "bestIteration = -1\n",
    "for rank in ranks:\n",
    "    model = ALS.train(trainingRDD, rank, seed=seed, iterations=iterations,\n",
    "                      lambda_=regularizationParameter)\n",
    "    predictedRatingsRDD = model.predictAll(validationForPredictRDD)\n",
    "    error = computeError(predictedRatingsRDD, validationRDD)\n",
    "    errors[err] = error\n",
    "    err += 1\n",
    "    print 'For rank %s the RMSE is %s' % (rank, error)\n",
    "    if error < minError:\n",
    "        minError = error\n",
    "        bestRank = rank\n",
    "\n",
    "print 'The best model was trained with rank %s' % bestRank"
   ]
  },
  {
   "cell_type": "markdown",
   "metadata": {},
   "source": [
    "Using rank 8, from above, I apply the model using MLlib's ALS algorithm."
   ]
  },
  {
   "cell_type": "code",
   "execution_count": 15,
   "metadata": {
    "collapsed": false
   },
   "outputs": [
    {
     "name": "stdout",
     "output_type": "stream",
     "text": [
      "The model had a RMSE on the test set of 0.891048561304\n"
     ]
    }
   ],
   "source": [
    "myModel = ALS.train(trainingRDD, bestRank, seed=seed, iterations=iterations,\n",
    "                      lambda_=regularizationParameter)\n",
    "testForPredictingRDD = testRDD.map(lambda (a,b,c): (a,b))\n",
    "predictedTestRDD = myModel.predictAll(testForPredictingRDD)\n",
    "\n",
    "testRMSE = computeError(testRDD, predictedTestRDD)\n",
    "\n",
    "print 'The model had a RMSE on the test set of %s' % testRMSE"
   ]
  },
  {
   "cell_type": "code",
   "execution_count": 16,
   "metadata": {
    "collapsed": false
   },
   "outputs": [
    {
     "name": "stdout",
     "output_type": "stream",
     "text": [
      "The average rating for movies in the training set is 3.57409571052\n",
      "The RMSE on the average set is 1.12036693569\n"
     ]
    }
   ],
   "source": [
    "trainingAvgRating = trainingRDD.map(lambda x: x[2]).reduce(lambda a,b: a+b)/trainingRDD.count()\n",
    "print 'The average rating for movies in the training set is %s' % trainingAvgRating\n",
    "\n",
    "testForAvgRDD = testRDD.map(lambda (a,b,c): (a,b,trainingAvgRating))\n",
    "testAvgRMSE = computeError(testRDD, testForAvgRDD)\n",
    "print 'The RMSE on the average set is %s' % testAvgRMSE"
   ]
  },
  {
   "cell_type": "code",
   "execution_count": 17,
   "metadata": {
    "collapsed": false
   },
   "outputs": [
    {
     "name": "stdout",
     "output_type": "stream",
     "text": [
      "Most rated movies:\n",
      "(average rating, movie name, number of reviews)\n",
      "(4.5349264705882355, u'Shawshank Redemption, The (1994)', 1088)\n",
      "(4.515798462852263, u\"Schindler's List (1993)\", 1171)\n",
      "(4.512893982808023, u'Godfather, The (1972)', 1047)\n",
      "(4.510460251046025, u'Raiders of the Lost Ark (1981)', 1195)\n",
      "(4.505415162454874, u'Usual Suspects, The (1995)', 831)\n",
      "(4.457256461232604, u'Rear Window (1954)', 503)\n",
      "(4.45468509984639, u'Dr. Strangelove or: How I Learned to Stop Worrying and Love the Bomb (1963)', 651)\n",
      "(4.43953006219765, u'Star Wars: Episode IV - A New Hope (1977)', 1447)\n",
      "(4.4, u'Sixth Sense, The (1999)', 1110)\n",
      "(4.394285714285714, u'North by Northwest (1959)', 700)\n",
      "(4.379506641366224, u'Citizen Kane (1941)', 527)\n",
      "(4.375, u'Casablanca (1942)', 776)\n",
      "(4.363975155279503, u'Godfather: Part II, The (1974)', 805)\n",
      "(4.358816276202219, u\"One Flew Over the Cuckoo's Nest (1975)\", 811)\n",
      "(4.358173076923077, u'Silence of the Lambs, The (1991)', 1248)\n",
      "(4.335826477187734, u'Saving Private Ryan (1998)', 1337)\n",
      "(4.326241134751773, u'Chinatown (1974)', 564)\n",
      "(4.325383304940375, u'Life Is Beautiful (La Vita \\ufffd bella) (1997)', 587)\n",
      "(4.324110671936759, u'Monty Python and the Holy Grail (1974)', 759)\n",
      "(4.3096, u'Matrix, The (1999)', 1250)\n",
      "(4.309457579972183, u'Star Wars: Episode V - The Empire Strikes Back (1980)', 1438)\n",
      "(4.30379746835443, u'Young Frankenstein (1974)', 553)\n",
      "(4.301346801346801, u'Psycho (1960)', 594)\n",
      "(4.296438883541867, u'Pulp Fiction (1994)', 1039)\n",
      "(4.286535303776683, u'Fargo (1996)', 1218)\n",
      "(4.282367447595561, u'GoodFellas (1990)', 811)\n",
      "(4.27943661971831, u'American Beauty (1999)', 1775)\n",
      "(4.268053855569155, u'Wizard of Oz, The (1939)', 817)\n",
      "(4.267774699907664, u'Princess Bride, The (1987)', 1083)\n",
      "(4.253333333333333, u'Graduate, The (1967)', 600)\n",
      "(4.236263736263736, u'Run Lola Run (Lola rennt) (1998)', 546)\n",
      "(4.233807266982622, u'Amadeus (1984)', 633)\n",
      "(4.232558139534884, u'Toy Story 2 (1999)', 860)\n",
      "(4.232558139534884, u'This Is Spinal Tap (1984)', 516)\n",
      "(4.228494623655914, u'Almost Famous (2000)', 744)\n",
      "(4.2250755287009065, u'Christmas Story, A (1983)', 662)\n",
      "(4.216757741347905, u'Glory (1989)', 549)\n",
      "(4.213358070500927, u'Apocalypse Now (1979)', 539)\n",
      "(4.20992028343667, u'L.A. Confidential (1997)', 1129)\n",
      "(4.204733727810651, u'Blade Runner (1982)', 845)\n",
      "(4.1886120996441285, u'Sling Blade (1996)', 562)\n",
      "(4.184615384615385, u'Braveheart (1995)', 1300)\n",
      "(4.184168012924071, u'Butch Cassidy and the Sundance Kid (1969)', 619)\n",
      "(4.182509505703422, u'Good Will Hunting (1997)', 789)\n",
      "(4.166969147005445, u'Taxi Driver (1976)', 551)\n",
      "(4.162767039674466, u'Terminator, The (1984)', 983)\n",
      "(4.157545605306799, u'Reservoir Dogs (1992)', 603)\n",
      "(4.153333333333333, u'Jaws (1975)', 750)\n",
      "(4.149840595111583, u'Alien (1979)', 941)\n",
      "(4.145015105740181, u'Toy Story (1995)', 993)\n"
     ]
    }
   ],
   "source": [
    "print 'Most rated movies:'\n",
    "print '(average rating, movie name, number of reviews)'\n",
    "for ratingsTuple in movieLimitedAndSortedByRatingRDD.take(50):\n",
    "    print ratingsTuple"
   ]
  },
  {
   "cell_type": "markdown",
   "metadata": {},
   "source": [
    "Using some of the movies defined above, of which I have seen, I apply my own ratings and add them to the original training RDD. Using this data, I reapply the model."
   ]
  },
  {
   "cell_type": "code",
   "execution_count": 18,
   "metadata": {
    "collapsed": false
   },
   "outputs": [
    {
     "name": "stdout",
     "output_type": "stream",
     "text": [
      "My movie ratings: [(0, 1088, 5), (0, 1047, 3.5), (0, 831, 5), (0, 1447, 4), (0, 1248, 5), (0, 587, 3), (0, 759, 2), (0, 1337, 3.5), (0, 1250, 5), (0, 1438, 4)]\n"
     ]
    }
   ],
   "source": [
    "myUserID = 0\n",
    "\n",
    "myRatedMovies = [\n",
    "     (myUserID, 1088, 5),\n",
    "\t (myUserID, 1047, 3.5),\n",
    "\t (myUserID, 831, 5),\n",
    "\t (myUserID, 1447, 4),\n",
    "\t (myUserID, 1248, 5),\n",
    "\t (myUserID, 587, 3),\n",
    "\t (myUserID, 759, 2),\n",
    "\t (myUserID, 1337, 3.5),\n",
    "\t (myUserID, 1250, 5),\n",
    "\t (myUserID, 1438, 4),\n",
    "\t (myUserID, 1039, 5),\n",
    "\t (myUserID, 811, 3),\n",
    "\t (myUserID, 1775, 4),\n",
    "\t (myUserID, 744, 5),\n",
    "\t (myUserID, 983, 3),\n",
    "\t (myUserID, 516, 2)\n",
    "    ]\n",
    "\n",
    "myRatingsRDD = sc.parallelize(myRatedMovies)\n",
    "print 'My movie ratings: %s' % myRatingsRDD.take(10)"
   ]
  },
  {
   "cell_type": "code",
   "execution_count": 19,
   "metadata": {
    "collapsed": false
   },
   "outputs": [
    {
     "name": "stdout",
     "output_type": "stream",
     "text": [
      "The training dataset now has 16 more entries than the original training dataset\n"
     ]
    }
   ],
   "source": [
    "trainingWithMyRatingsRDD = trainingRDD.union(myRatingsRDD)\n",
    "\n",
    "print ('The training dataset now has %s more entries than the original training dataset' %\n",
    "       (trainingWithMyRatingsRDD.count() - trainingRDD.count()))"
   ]
  },
  {
   "cell_type": "code",
   "execution_count": 20,
   "metadata": {
    "collapsed": false
   },
   "outputs": [],
   "source": [
    "myRatingsModel = ALS.train(trainingWithMyRatingsRDD, bestRank, seed=seed, iterations=iterations,\n",
    "                      lambda_=regularizationParameter)"
   ]
  },
  {
   "cell_type": "markdown",
   "metadata": {},
   "source": [
    "Finally, I use the model above to predict rating for movies I have not rated, or seen, and print the top 20 recommended movies that are most appealing based on my ratings above."
   ]
  },
  {
   "cell_type": "code",
   "execution_count": 21,
   "metadata": {
    "collapsed": false
   },
   "outputs": [
    {
     "name": "stdout",
     "output_type": "stream",
     "text": [
      "The model had a RMSE on the test set of 0.89196362396\n"
     ]
    }
   ],
   "source": [
    "predictedTestMyRatingsRDD = myRatingsModel.predictAll(testForPredictingRDD)\n",
    "testRMSEMyRatings = computeError(testRDD, predictedTestMyRatingsRDD)\n",
    "print 'The model had a RMSE on the test set of %s' % testRMSEMyRatings"
   ]
  },
  {
   "cell_type": "code",
   "execution_count": 22,
   "metadata": {
    "collapsed": false
   },
   "outputs": [],
   "source": [
    "myUnratedMoviesRDD = (moviesRDD\n",
    "                      .map(lambda (x,y): (myUserID,x))\n",
    "                      .filter(lambda x: x[1] not in [i[1] for i in myRatedMovies]))\n",
    "\n",
    "predictedRatingsRDD = myRatingsModel.predictAll(myUnratedMoviesRDD)"
   ]
  },
  {
   "cell_type": "code",
   "execution_count": 23,
   "metadata": {
    "collapsed": false
   },
   "outputs": [
    {
     "name": "stdout",
     "output_type": "stream",
     "text": [
      "My highest rated movies as predicted (for movies with more than 75 reviews):\n",
      "(4.887934067729034, u'Sound of Music, The (1965)')\n",
      "(4.878950491273818, u'It Happened One Night (1934)')\n",
      "(4.855751232926426, u'White Christmas (1954)')\n",
      "(4.834603308812711, u'Lady Vanishes, The (1938)')\n",
      "(4.829663685236295, u'Top Hat (1935)')\n",
      "(4.826162164923089, u'Wizard of Oz, The (1939)')\n",
      "(4.814441824947849, u'Shall We Dance? (1937)')\n",
      "(4.7805553765865705, u'Meet Me in St. Louis (1944)')\n",
      "(4.720975825719648, u\"Singin' in the Rain (1952)\")\n",
      "(4.709044963484411, u'Roman Holiday (1953)')\n",
      "(4.673447788761911, u'Arsenic and Old Lace (1944)')\n",
      "(4.66721686599315, u'Philadelphia Story, The (1940)')\n",
      "(4.666262113116397, u'My Fair Lady (1964)')\n",
      "(4.651757388448126, u'Bringing Up Baby (1938)')\n",
      "(4.643911329155631, u'Mr. Smith Goes to Washington (1939)')\n",
      "(4.630149933492108, u'Inherit the Wind (1960)')\n",
      "(4.61652856366917, u'Charade (1963)')\n",
      "(4.579077213613478, u'King and I, The (1956)')\n",
      "(4.576038700898643, u'Thin Man, The (1934)')\n",
      "(4.5684703003285945, u'Gone with the Wind (1939)')\n"
     ]
    }
   ],
   "source": [
    "movieCountsRDD = movieIDsWithAvgRatingsRDD.map(lambda (MovieID, (numRatings, averageRating)): (MovieID, numRatings))\n",
    "predictedRDD = predictedRatingsRDD.map(lambda (user, MovieID, predictRating): (MovieID, predictRating))\n",
    "predictedWithCountsRDD  = (predictedRDD\n",
    "                           .join(movieCountsRDD))\n",
    "ratingsWithNamesRDD = (predictedWithCountsRDD\n",
    "                       .join(moviesRDD)\n",
    "                       .filter(lambda (movieID, ((predictRating, numRatings), movieName)): numRatings > 75)\n",
    "                       .map(lambda (movieID, ((predictRating, numRatings), movieName)): (predictRating, movieName)))\n",
    "\n",
    "predictedHighestRatedMovies = ratingsWithNamesRDD.takeOrdered(20, key=lambda x: -x[0])\n",
    "print ('My highest rated movies as predicted (for movies with more than 75 reviews):\\n%s' %\n",
    "        '\\n'.join(map(str, predictedHighestRatedMovies)))"
   ]
  }
 ],
 "metadata": {
  "kernelspec": {
   "display_name": "Python 2",
   "language": "python",
   "name": "python2"
  },
  "language_info": {
   "codemirror_mode": {
    "name": "ipython",
    "version": 2
   },
   "file_extension": ".py",
   "mimetype": "text/x-python",
   "name": "python",
   "nbconvert_exporter": "python",
   "pygments_lexer": "ipython2",
   "version": "2.7.5"
  }
 },
 "nbformat": 4,
 "nbformat_minor": 0
}
